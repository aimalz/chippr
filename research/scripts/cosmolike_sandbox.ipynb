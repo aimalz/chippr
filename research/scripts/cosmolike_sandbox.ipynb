{
 "cells": [
  {
   "cell_type": "code",
   "execution_count": null,
   "metadata": {},
   "outputs": [],
   "source": [
    "%matplotlib inline\n",
    "import os\n",
    "import pickle\n",
    "import cPickle as cpkl\n",
    "import csv\n",
    "import sys\n",
    "\n",
    "import matplotlib as mpl\n",
    "import matplotlib.pyplot as plt\n",
    "from matplotlib.patches import Ellipse\n",
    "\n",
    "# mpl.rcParams['text.usetex'] = True\n",
    "mpl.rcParams['mathtext.rm'] = 'serif'\n",
    "mpl.rcParams['font.family'] = 'serif'\n",
    "mpl.rcParams['font.serif'] = 'Times New Roman'\n",
    "mpl.rcParams['axes.titlesize'] = 16\n",
    "mpl.rcParams['axes.labelsize'] = 14\n",
    "mpl.rcParams['savefig.dpi'] = 250\n",
    "# mpl.rcParams['savefig.format'] = 'pdf'\n",
    "mpl.rcParams['savefig.bbox'] = 'tight'\n",
    "\n",
    "import numpy as np\n",
    "import scipy.stats as sps\n",
    "\n",
    "import chippr\n",
    "import chippr.plot_utils as pu\n",
    "\n"
   ]
  },
  {
   "cell_type": "markdown",
   "metadata": {},
   "source": [
    "# Examining CosmoLike input"
   ]
  },
  {
   "cell_type": "code",
   "execution_count": null,
   "metadata": {},
   "outputs": [],
   "source": [
    "# print(np.shape(cl_input))\n",
    "# n_tomobins = np.shape(cl_input)[1] - 1\n",
    "# 1 column of redshifts, 4 tomographic bins, 350 redshift bins\n",
    "# too many redshift bins, I'll set the truth to that binned down"
   ]
  },
  {
   "cell_type": "code",
   "execution_count": null,
   "metadata": {},
   "outputs": [],
   "source": [
    "cl_input = np.genfromtxt('../results/CosmoLike/nz_histo.txt')\n",
    "n_tomobins = np.shape(cl_input)[1] - 1\n",
    "fine_dif = np.mean(cl_input.T[0])\n",
    "for i in range(n_tomobins):\n",
    "    plt.plot(cl_input.T[0], cl_input.T[i+1])\n",
    "    print(np.sum(cl_input.T[i+1] * fine_dif))"
   ]
  },
  {
   "cell_type": "code",
   "execution_count": null,
   "metadata": {},
   "outputs": [],
   "source": [
    "# this is the truth!\n",
    "cl_data = np.empty((35, 5))\n",
    "for i in range(35):\n",
    "    cl_data[i][1:] = np.sum(cl_input[i * 10:(i + 1) * 10, 1:], axis=0)\n",
    "    cl_data[i][0] = cl_input[i * 10][0]\n",
    "for i in range(n_tomobins):\n",
    "    plt.plot(cl_data.T[0], cl_data.T[i+1])\n",
    "    \n",
    "np.savetxt('../results/CosmoLike/nz_format_test.txt', cl_data)"
   ]
  },
  {
   "cell_type": "markdown",
   "metadata": {},
   "source": [
    "# make CHIPPR output into CosmoLike format"
   ]
  },
  {
   "cell_type": "markdown",
   "metadata": {},
   "source": [
    "## truth\n",
    "\n",
    "in units of counts"
   ]
  },
  {
   "cell_type": "code",
   "execution_count": null,
   "metadata": {},
   "outputs": [],
   "source": [
    "bin_ends = np.genfromtxt('../results/0single_lsst/data/metadata.txt')\n",
    "bin_difs = bin_ends[1:] - bin_ends[:-1]\n",
    "bin_mids = (bin_ends[1:] + bin_ends[:-1]) / 2."
   ]
  },
  {
   "cell_type": "code",
   "execution_count": null,
   "metadata": {},
   "outputs": [],
   "source": [
    "all_true_nzs = [bin_mids]\n",
    "for i in range(n_tomobins):\n",
    "    true_zs = np.genfromtxt('../results/' + str(i) + 'single_lsst/data/true_vals.txt').T[0]\n",
    "    true_nz = np.histogram(true_zs, bins=bin_ends)[0] / float(len(true_zs)) / bin_difs\n",
    "    all_true_nzs.append(true_nz)\n",
    "all_true_nzs = np.array(all_true_nzs)\n",
    "np.savetxt('../results/CosmoLike/true_nz.txt', all_true_nzs.T)"
   ]
  },
  {
   "cell_type": "code",
   "execution_count": null,
   "metadata": {},
   "outputs": [],
   "source": [
    "for i in range(n_tomobins):\n",
    "    plt.plot(all_true_nzs[0], all_true_nzs[i+1])"
   ]
  },
  {
   "cell_type": "markdown",
   "metadata": {},
   "source": [
    "## estimators\n",
    "\n",
    "log n(z) piecewise constant and separate files per tomobin each with all formats\n",
    "\n",
    "need single file with z values, point evaluations in each tomobin"
   ]
  },
  {
   "cell_type": "code",
   "execution_count": null,
   "metadata": {},
   "outputs": [],
   "source": [
    "all_stk_nzs, all_mle_nzs, all_map_nzs = [bin_mids], [bin_mids], [bin_mids]\n",
    "for i in range(n_tomobins):\n",
    "    with open('../results/' + str(i) + 'single_lsst/results/nz.p', 'rb') as test_file:\n",
    "        test_info = cpkl.load(test_file)\n",
    "    all_stk_nzs.append(np.exp(test_info['estimators']['log_stacked_nz']))\n",
    "    all_mle_nzs.append(np.exp(test_info['estimators']['log_mmle_nz']))\n",
    "    all_map_nzs.append(np.exp(test_info['estimators']['log_mmap_nz']))\n",
    "all_stk_nzs = np.array(all_stk_nzs)\n",
    "all_mle_nzs = np.array(all_mle_nzs)\n",
    "all_map_nzs = np.array(all_map_nzs)\n",
    "np.savetxt('../results/CosmoLike/stack_nz.txt', all_stk_nzs.T)\n",
    "np.savetxt('../results/CosmoLike/mmle_nz.txt', all_mle_nzs.T)\n",
    "np.savetxt('../results/CosmoLike/mmap_nz.txt', all_map_nzs.T)"
   ]
  },
  {
   "cell_type": "code",
   "execution_count": null,
   "metadata": {},
   "outputs": [],
   "source": [
    "for i in range(n_tomobins):\n",
    "    plt.plot(all_true_nzs[0], all_true_nzs[i+1], c='k')\n",
    "    plt.plot(all_true_nzs[0], all_stk_nzs[i+1], c='g')\n",
    "    plt.plot(all_true_nzs[0], all_mle_nzs[i+1], c='b')\n",
    "    plt.plot(all_true_nzs[0], all_map_nzs[i+1], c='r')\n",
    "    "
   ]
  },
  {
   "cell_type": "markdown",
   "metadata": {},
   "source": [
    "# what to do with CosmoLike output"
   ]
  },
  {
   "cell_type": "code",
   "execution_count": null,
   "metadata": {},
   "outputs": [],
   "source": [
    "testnames = ['true_nz', 'stack_nz', 'mmle_nz', 'mmap_nz']"
   ]
  },
  {
   "cell_type": "code",
   "execution_count": null,
   "metadata": {},
   "outputs": [],
   "source": [
    "all_covariances = []\n",
    "all_invcovariances = []\n",
    "magfactors = []\n",
    "for testname in testnames:\n",
    "    covariances = np.zeros((200, 200)) + sys.float_info.min\n",
    "#     with open(os.path.join('../results/CosmoLike', 'Cl_cov.nz'+testname+'.txt'), 'rb') as cosmolike_file:\n",
    "#         cosmolike_reader = csv.reader(cosmolike_file, delimiter=' ')\n",
    "#         cosmolike_reader.next()\n",
    "#         for row in cosmolike_reader:\n",
    "#             # covariance matrix is filled with positive values << floating point precision.\n",
    "#             # I'm going to inflate them and deflate before reporting results\n",
    "#             covariances[int(row[0])][int(row[1])] = float(row[2])\n",
    "#             covariances[int(row[1])][int(row[0])] = float(row[2])\n",
    "    covariance_table = np.genfromtxt('../results/CosmoLike/Cl_cov.'+testname+'.txt')\n",
    "    magfactor = np.asarray(np.min(covariance_table.T[-1]))\n",
    "    print(magfactor)\n",
    "    magfactors.append(magfactor)\n",
    "    for row in covariance_table:\n",
    "#         print(row)\n",
    "        covariances[int(row[0])][int(row[1])] = row[2]# / magfactor\n",
    "        covariances[int(row[1])][int(row[0])] = row[2]# / magfactor\n",
    "#     covariances = covariances - sys.float_info.min\n",
    "#     assert(np.all(covariances >= 0.))\n",
    "#     covariances += sys.float_info.min\n",
    "#     covariances = covariances / magfactor\n",
    "    assert(np.all(covariances > 0.))\n",
    "    all_covariances.append(covariances)\n",
    "    invcovariances = np.linalg.inv(covariances)\n",
    "    mask = np.where((invcovariances < sys.float_info.min))\n",
    "    invcovariances[mask] = sys.float_info.min\n",
    "#     print(np.shape(invcovariances))\n",
    "    assert(np.all(invcovariances > 0.))\n",
    "    all_invcovariances.append(invcovariances)"
   ]
  },
  {
   "cell_type": "code",
   "execution_count": null,
   "metadata": {},
   "outputs": [],
   "source": [
    "# # plt.imshow(np.log(covariances))\n",
    "# # print(covariances)\n",
    "\n",
    "# invcovariances = np.linalg.pinv(covariances)# / sys.float_info.epsilon) * sys.float_info.epsilon\n",
    "# # print(invcovariances)\n",
    "\n",
    "# # # invcovariances = np.linalg.pinv(1.e15 * covariances) * 1.e15\n",
    "# # # print(invcovariances)\n",
    "\n",
    "# # plt.imshow(np.log(invcovariances * sys.float_info.epsilon))\n",
    "# # print(invcovariances * sys.float_info.epsilon)"
   ]
  },
  {
   "cell_type": "code",
   "execution_count": null,
   "metadata": {},
   "outputs": [],
   "source": [
    "# Cl, dCldOm, dClds8, dCldns, dCldw0, dCldwa, dCldOb, dCldH0 = np.zeros(200), np.zeros(200), np.zeros(200), np.zeros(200), np.zeros(200), np.zeros(200), np.zeros(200)\n",
    "all_deriv_info = []\n",
    "for testname in testnames:\n",
    "#     deriv_info = np.zeros((200, 7)) + sys.float_info.min\n",
    "#     with open(os.path.join('../results/CosmoLike', 'Cl_derivs.nz'+testname+'.txt'), 'rb') as cosmolike_file:\n",
    "#         cosmolike_reader = csv.reader(cosmolike_file, delimiter=' ')\n",
    "#         cosmolike_reader.next()\n",
    "#         i = 0\n",
    "#         while i < 200:\n",
    "#             for row in cosmolike_reader:\n",
    "#                 for j in range(7):\n",
    "#                     deriv_info[i][j] = float(row[j])\n",
    "#             i += 1\n",
    "    deriv_info = np.genfromtxt('../results/CosmoLike/Cl_derivs.'+testname+'.txt')#, skip_header=0)\n",
    "#     print(np.shape(deriv_info))\n",
    "    deriv_info = np.vstack((np.zeros(7), deriv_info))\n",
    "    deriv_info = deriv_info.T\n",
    "    all_deriv_info.append(deriv_info)"
   ]
  },
  {
   "cell_type": "code",
   "execution_count": null,
   "metadata": {},
   "outputs": [],
   "source": [
    "# # deriv_info = deriv_info.T\n",
    "# dCldOm, dClds8, dCldns, dCldw0, dCldwa, dCldOb, dCldH0 = deriv_info[0], deriv_info[1], deriv_info[2], deriv_info[3], deriv_info[4], deriv_info[5], deriv_info[6]"
   ]
  },
  {
   "cell_type": "code",
   "execution_count": null,
   "metadata": {},
   "outputs": [],
   "source": [
    "all_fisher = []\n",
    "all_invfisher = []\n",
    "for k in range(len(testnames)):\n",
    "    ls = np.arange(200)\n",
    "    fisher = np.eye(7)\n",
    "    for i in range(7):\n",
    "        for j in range(i+1):\n",
    "            fisher[i][j] = np.sum((2. * ls[1:] + 1.) * all_deriv_info[k][i][1:] * \n",
    "                                  (all_invcovariances[k][1:, 1:]) * all_deriv_info[k][j][1:])\n",
    "            fisher[j][i] = fisher[i][j]\n",
    "    all_fisher.append(fisher)\n",
    "    invfisher = np.linalg.pinv(fisher)#np.linalg.inv(fisher/sys.float_info.epsilon) * sys.float_info.epsilon\n",
    "    all_invfisher.append(invfisher)"
   ]
  },
  {
   "cell_type": "code",
   "execution_count": null,
   "metadata": {},
   "outputs": [],
   "source": [
    "# # print(fisher/sys.float_info.epsilon)\n",
    "# # plt.imshow(fisher/sys.float_info.epsilon)\n",
    "\n",
    "# invfisher = np.linalg.inv(fisher/sys.float_info.epsilon) * sys.float_info.epsilon\n",
    "# plt.imshow(np.log(all_fisher[0]))\n",
    "# plt.colorbar()\n",
    "# print(invfisher)"
   ]
  },
  {
   "cell_type": "code",
   "execution_count": null,
   "metadata": {},
   "outputs": [],
   "source": [
    "colors = ['k', pu.colors[0], pu.colors[2], pu.colors[-3]] \n",
    "styles = [[(0, (1, 0.001))], [(0, (2, 2))], [(0, (1, 2))], [(0, (2, 1))]]\n",
    "# names = ['true', 'stack', 'CHIPPR', 'MAP']\n",
    "keys = ['dCl/dOm', 'dCl/ds8', 'dCl/dns', 'dCl/dw0', 'dCl/dwa', 'dCl/dOb', 'dCl/dH0']\n",
    "# keys = [r'$\\Omega_{m}$', r'$S_{8}$', r'$n_{s}$', r'$w_{0}$', r'$w_{a}$', r'$\\Omega_{b}$', r'$H_{0}$']"
   ]
  },
  {
   "cell_type": "code",
   "execution_count": null,
   "metadata": {},
   "outputs": [],
   "source": [
    "def make_ellipse_params(fisher):\n",
    "    diag_elems = np.diag(fisher)\n",
    "    term1 = (diag_elems[:, np.newaxis] + diag_elems[np.newaxis, :]) / 2.\n",
    "#     print(term1)\n",
    "    term2 = np.sqrt((diag_elems[:, np.newaxis] - diag_elems[np.newaxis, :])**2 / 4. + fisher * fisher.T)\n",
    "#     print(term2)\n",
    "    a = np.sqrt(term1 + term2)# (added abs?)\n",
    "    b = np.sqrt(np.abs(term1 - term2))# (added abs?)\n",
    "#     print(b)\n",
    "    t = np.arctan((fisher + fisher.T) / np.abs((diag_elems[:, np.newaxis] - diag_elems[np.newaxis, :]))) / 2.\n",
    "    assert(np.all(b >= 0.))\n",
    "    return(a, b, t)\n",
    "\n",
    "fish_params = []\n",
    "for k in range(len(testnames)):\n",
    "    fisher = all_invfisher[k]\n",
    "    (a, b, t) = make_ellipse_params(fisher)\n",
    "    fish_params.append((a, b, t))\n",
    "fish_params = np.array(fish_params)"
   ]
  },
  {
   "cell_type": "code",
   "execution_count": null,
   "metadata": {},
   "outputs": [],
   "source": [
    "def mycorner(fish_params, keys):\n",
    "    \n",
    "    ncol = len(keys)\n",
    "    fig = plt.figure(figsize=(ncol*5, ncol*5))\n",
    "    ax = [[fig.add_subplot(ncol, ncol, ncol * i + j + 1) for j in range(i+1)] for i in range(ncol)]\n",
    "    to_keep = range(ncol)#[0, 1, 2, 4]\n",
    "    \n",
    "    extrema = np.zeros(ncol)\n",
    "    for k in range(len(testnames)):\n",
    "        axl = fig.add_subplot(ncol, ncol, ncol)\n",
    "        axl.text(0.5, 0.75 - 0.1 * k, testnames[k], fontsize=16, color=colors[k])\n",
    "#         fisher = fishers_info[k]\n",
    "        \n",
    "        a, b, t = fish_params[k]\n",
    "        extrema = np.max(np.sqrt(a), axis=1) / 2.\n",
    "        \n",
    "        for i in range(ncol):#range(len(to_keep)):#range(ncol):\n",
    "#             sxx = fisher[i][i]\n",
    "#             sx = np.sqrt(sxx)# (added abs!)\n",
    "#             extrema[i] = np.max((sx, extrema[i]))\n",
    "    #         i = k#to_keep[k]\n",
    "            for j in range(i + 1):#to_keep[:k]:#range(i+1):\n",
    "#                 ax[i][j].set_xlim(-1. * extrema[i], extrema[i])\n",
    "                if i == j:\n",
    "                    lim_val = np.sqrt(all_invfisher[k][i][i])\n",
    "                    x_grid = np.linspace(-3. * lim_val, 3. * lim_val, 100)\n",
    "                    func = sps.norm(0., lim_val)# (added abs!)\n",
    "                    ax[i][j].plot(x_grid, func.pdf(x_grid), \n",
    "                                  color=colors[k], label=testnames[k], alpha=0.5, linestyle=styles[k][0], linewidth=3.)\n",
    "                    ax[i][j].set_xlabel(keys[i])\n",
    "                    ax[i][j].set_yticks([])\n",
    "                else:\n",
    "#                     syy = fisher[j][j]\n",
    "#                     sy = np.sqrt(syy)# (added abs!)\n",
    "#                     ylim = (-5.*sy, 5.*sy)\n",
    "#                     term1 = (sxx + syy)/2.\n",
    "#                     term2 = np.sqrt((sxx - syy)**2/4. + fisher[i][j] * fisher[j][i])# (added abs!)\n",
    "#                     a = np.sqrt(np.abs(term1 + term2))# (added abs?)\n",
    "#                     b = np.sqrt(np.abs(term1 - term2))# (added abs?)\n",
    "#                     t = np.arctan((fisher[i][j] + fisher[j][i])/(sxx-syy))/2.\n",
    "#                     print((k, i, j, term1-term2, a, b))\n",
    "                    ellipse = Ellipse(xy=(0., 0.), width=2.*a[i][j], height=2.*b[i][j], angle=t[i][j]*180./np.pi, \n",
    "                                      alpha=0.25, color=colors[k], linestyle=styles[k][0], lw=2.)\n",
    "                    ax[i][j].add_artist(ellipse)\n",
    "                    ax[i][j].set_xlabel(keys[i], fontsize=16)\n",
    "                    ax[i][j].set_ylabel(keys[j], fontsize=16)\n",
    "                    ax[i][j].set_ylim(-1.* extrema[i], 1. * extrema[i])\n",
    "                    ax[i][j].set_xlim(-1. * extrema[j], 1 * extrema[j])\n",
    "#                     ax[i][j].set_xlim(-4.*a, 4.*a)\n",
    "#                     ax[i][j].set_ylim(-4.*b, 4.*b)\n",
    "#                 ax[i][j].set_xlim(-1. * extrema[j], extrema[j])\n",
    "    \n",
    "    plt.savefig('../results/CosmoLike/final_plot.png', dpi=250)\n",
    "    return\n",
    "\n",
    "# mycorner(all_invfisher, keys)"
   ]
  },
  {
   "cell_type": "code",
   "execution_count": null,
   "metadata": {},
   "outputs": [],
   "source": [
    "keys_to_plot = ['dCl/dOm', 'dCl/ds8', 'dCl/dw0', 'dCl/dH0']"
   ]
  },
  {
   "cell_type": "code",
   "execution_count": null,
   "metadata": {},
   "outputs": [],
   "source": [
    "mycorner(fish_params, keys_to_plot)"
   ]
  },
  {
   "cell_type": "markdown",
   "metadata": {},
   "source": []
  },
  {
   "cell_type": "markdown",
   "metadata": {},
   "source": [
    "# making CosmoLike input"
   ]
  },
  {
   "cell_type": "code",
   "execution_count": null,
   "metadata": {},
   "outputs": [],
   "source": [
    "test_dir = '../results/single'"
   ]
  },
  {
   "cell_type": "code",
   "execution_count": null,
   "metadata": {},
   "outputs": [],
   "source": [
    "simulated_posteriors = chippr.catalog(params='single.txt', loc=test_dir)"
   ]
  },
  {
   "cell_type": "code",
   "execution_count": null,
   "metadata": {},
   "outputs": [],
   "source": [
    "data = simulated_posteriors.read(loc='data', style='.txt')"
   ]
  },
  {
   "cell_type": "code",
   "execution_count": null,
   "metadata": {},
   "outputs": [],
   "source": [
    "params = chippr.utils.ingest('single.txt')\n",
    "def check_prob_params(params):\n",
    "    \"\"\"\n",
    "    Sets parameter values pertaining to components of probability\n",
    "\n",
    "    Parameters\n",
    "    ----------\n",
    "    params: dict\n",
    "        dictionary containing key/value pairs for probability\n",
    "\n",
    "    Returns\n",
    "    -------\n",
    "    params: dict\n",
    "        dictionary containing key/value pairs for probability\n",
    "    \"\"\"\n",
    "    if 'prior_mean' not in params:\n",
    "        params['prior_mean'] = 'interim'\n",
    "    else:\n",
    "        params['prior_mean'] = params['prior_mean'][0]\n",
    "    if 'no_prior' not in params:\n",
    "        params['no_prior'] = 0\n",
    "    else:\n",
    "        params['no_prior'] = int(params['no_prior'][0])\n",
    "    if 'no_data' not in params:\n",
    "        params['no_data'] = 0\n",
    "    else:\n",
    "        params['no_data'] = int(params['no_data'][0])\n",
    "    return params\n",
    "params = check_prob_params(params)\n",
    "def set_up_prior(data, params):\n",
    "    \"\"\"\n",
    "    Function to create prior distribution from data\n",
    "\n",
    "    Parameters\n",
    "    ----------\n",
    "    data: dict\n",
    "        catalog dictionary containing bin endpoints, log interim prior, and log\n",
    "        interim posteriors\n",
    "    params: dict\n",
    "        dictionary of parameter values for creation of prior\n",
    "\n",
    "    Returns\n",
    "    -------\n",
    "    prior: chippr.mvn object\n",
    "        prior distribution as multivariate normal\n",
    "    \"\"\"\n",
    "    zs = data['bin_ends']\n",
    "    log_nz_intp = data['log_interim_prior']\n",
    "    log_z_posts = data['log_interim_posteriors']\n",
    "\n",
    "    z_difs = zs[1:]-zs[:-1]\n",
    "    z_mids = (zs[1:]+zs[:-1])/2.\n",
    "    n_bins = len(z_mids)\n",
    "\n",
    "    n_pdfs = len(log_z_posts)\n",
    "\n",
    "    a = 1.# / n_bins\n",
    "    b = 20.#1. / z_difs ** 2\n",
    "    c = a / n_pdfs\n",
    "    prior_var = np.eye(n_bins)\n",
    "    for k in range(n_bins):\n",
    "        prior_var[k] = a * np.exp(-0.5 * b * (z_mids[k] - z_mids) ** 2)\n",
    "    prior_var += c * np.identity(n_bins)\n",
    "\n",
    "    prior_mean = log_nz_intp\n",
    "    prior = chippr.mvn(prior_mean, prior_var)\n",
    "    if params['prior_mean'] == 'sample':\n",
    "        new_mean = prior.sample_one()\n",
    "        prior = chippr.mvn(new_mean, prior_var)\n",
    "        print(params['prior_mean'], prior_mean, new_mean)\n",
    "    else:\n",
    "        print(params['prior_mean'], prior_mean)\n",
    "\n",
    "    return (prior, prior_var)\n",
    "(prior, cov) = set_up_prior(data, params)"
   ]
  },
  {
   "cell_type": "code",
   "execution_count": null,
   "metadata": {},
   "outputs": [],
   "source": [
    "with open(os.path.join('../results/single/data', 'true_params.p'), 'r') as true_file:\n",
    "    true_nz_info = pickle.load(true_file)"
   ]
  },
  {
   "cell_type": "code",
   "execution_count": null,
   "metadata": {},
   "outputs": [],
   "source": [
    "true_nz_info['amps']"
   ]
  },
  {
   "cell_type": "code",
   "execution_count": null,
   "metadata": {},
   "outputs": [],
   "source": [
    "true_funcs = [chippr.discrete(np.array([true_nz_info['bins'][0], true_nz_info['bins'][-1]]), true_nz_info['amps'])]\n",
    "true_amps = true_nz_info['amps']\n",
    "# # print(true_amps)\n",
    "true_nz = true_funcs[0]#chippr.gmix(true_amps, true_funcs, limits=(min(true_nz_info['bins']), max(true_nz_info['bins'])))\n",
    "grid_mids = (true_nz_info['bins'][1:] + true_nz_info['bins'][:-1])/2.\n",
    "plt.plot(grid_mids, true_nz.evaluate(grid_mids))\n"
   ]
  },
  {
   "cell_type": "code",
   "execution_count": null,
   "metadata": {},
   "outputs": [],
   "source": [
    "nz = chippr.log_z_dens(data, prior, truth=true_nz, loc='../results/single', vb=True)"
   ]
  },
  {
   "cell_type": "code",
   "execution_count": null,
   "metadata": {},
   "outputs": [],
   "source": [
    "nz.read('nz.p')"
   ]
  },
  {
   "cell_type": "code",
   "execution_count": null,
   "metadata": {},
   "outputs": [],
   "source": [
    "bins_to_write = np.linspace(0.0101, 3.5001, 350)\n",
    "empty_bins = np.random.random((350, 4))/350.\n"
   ]
  },
  {
   "cell_type": "code",
   "execution_count": null,
   "metadata": {},
   "outputs": [],
   "source": [
    "bin_mids = (nz.info['bin_ends'][1:] + nz.info['bin_ends'][:-1])/2.\n",
    "with open(os.path.join('../results/single/results', 'nz_mmle_test.txt'), 'wb') as cosmolike_file:\n",
    "#     cosmolike_file.write(zip(bin_mids, np.exp(nz.info['estimators']['log_mmle_nz']))\n",
    "    cosmolike_writer = csv.writer(cosmolike_file, delimiter=' ')\n",
    "    cosmolike_writer.writerows(zip(bin_mids, np.exp(nz.info['estimators']['log_mmle_nz'])))"
   ]
  },
  {
   "cell_type": "markdown",
   "metadata": {},
   "source": [
    "# Placeholder"
   ]
  },
  {
   "cell_type": "markdown",
   "metadata": {},
   "source": [
    "# Revisiting!"
   ]
  },
  {
   "cell_type": "markdown",
   "metadata": {},
   "source": [
    "How to run cosmolike. . ."
   ]
  },
  {
   "cell_type": "markdown",
   "metadata": {},
   "source": [
    "# ancient scratch"
   ]
  },
  {
   "cell_type": "code",
   "execution_count": null,
   "metadata": {},
   "outputs": [],
   "source": [
    "z_0 = 0.3\n",
    "def smooth_func(z):\n",
    "    return 1/(2 * z_0) * (z/z_0)**2 * np.exp(-z/z_0)\n",
    "zs = np.linspace(0., 1., 100)\n",
    "\n",
    "nz = smooth_func(zs[:-1])\n",
    "nz /= np.dot(nz, zs[1:]-zs[:-1])\n",
    "plt.plot(zs[:-1], nz)"
   ]
  },
  {
   "cell_type": "code",
   "execution_count": null,
   "metadata": {},
   "outputs": [],
   "source": [
    "print(np.dot(true_funcs[0].evaluate(grid_mids), true_nz_info['grid'][1:]-true_nz_info['grid'][:-1]))"
   ]
  },
  {
   "cell_type": "code",
   "execution_count": null,
   "metadata": {},
   "outputs": [],
   "source": [
    "print(np.dot(true_funcs[0].distweights, true_funcs[0].dbins))"
   ]
  },
  {
   "cell_type": "code",
   "execution_count": null,
   "metadata": {},
   "outputs": [],
   "source": [
    "func = sps.norm(0.25, 0.05)\n",
    "print(func.std())\n",
    "x = np.linspace(0., 1., 100)\n",
    "plt.plot(x, func.pdf(x))"
   ]
  },
  {
   "cell_type": "code",
   "execution_count": null,
   "metadata": {},
   "outputs": [],
   "source": [
    "n_bins = 100\n",
    "z_mids = np.linspace(0., 1., n_bins)\n",
    "\n",
    "a = 1.\n",
    "b = 20.#mid-scale variations, larger means more peaks\n",
    "c = 1.e-6#longest-scale variation, lower increases amplitude relative to small-scale\n",
    "prior_var = np.eye(n_bins)\n",
    "for k in range(n_bins):\n",
    "    prior_var[k] = a * np.exp(-0.5 * b * (z_mids[k] - z_mids) ** 2)\n",
    "prior_var += c * np.identity(n_bins)\n",
    "\n",
    "prior_mean = np.zeros(n_bins)\n",
    "prior = chippr.mvn(prior_mean, prior_var)"
   ]
  },
  {
   "cell_type": "code",
   "execution_count": null,
   "metadata": {},
   "outputs": [],
   "source": [
    "samples = prior.sample(7)\n",
    "for each in samples:\n",
    "    plt.plot(z_mids, each)"
   ]
  },
  {
   "cell_type": "code",
   "execution_count": null,
   "metadata": {},
   "outputs": [],
   "source": []
  },
  {
   "cell_type": "code",
   "execution_count": null,
   "metadata": {},
   "outputs": [],
   "source": []
  }
 ],
 "metadata": {
  "kernelspec": {
   "display_name": "chippr (Python 2)",
   "language": "python",
   "name": "chippr_2"
  },
  "language_info": {
   "codemirror_mode": {
    "name": "ipython",
    "version": 2
   },
   "file_extension": ".py",
   "mimetype": "text/x-python",
   "name": "python",
   "nbconvert_exporter": "python",
   "pygments_lexer": "ipython2",
   "version": "2.7.15rc1"
  }
 },
 "nbformat": 4,
 "nbformat_minor": 2
}
