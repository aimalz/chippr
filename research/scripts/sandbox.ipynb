{
 "cells": [
  {
   "cell_type": "code",
   "execution_count": null,
   "metadata": {},
   "outputs": [],
   "source": [
    "import os\n",
    "import pickle\n",
    "import csv\n",
    "import sys\n",
    "\n",
    "import matplotlib\n",
    "import matplotlib.pyplot as plt\n",
    "from matplotlib.patches import Ellipse\n",
    "import numpy as np\n",
    "import scipy.stats as sps\n",
    "\n",
    "import chippr\n",
    "\n",
    "%matplotlib inline"
   ]
  },
  {
   "cell_type": "markdown",
   "metadata": {},
   "source": [
    "# making CosmoLike input"
   ]
  },
  {
   "cell_type": "code",
   "execution_count": null,
   "metadata": {},
   "outputs": [],
   "source": [
    "test_dir = '../results/all_systematics'"
   ]
  },
  {
   "cell_type": "code",
   "execution_count": null,
   "metadata": {},
   "outputs": [],
   "source": [
    "simulated_posteriors = chippr.catalog(params='all_systematics.txt', loc=test_dir)"
   ]
  },
  {
   "cell_type": "code",
   "execution_count": null,
   "metadata": {},
   "outputs": [],
   "source": [
    "data = simulated_posteriors.read(loc='data', style='.txt')"
   ]
  },
  {
   "cell_type": "code",
   "execution_count": null,
   "metadata": {},
   "outputs": [],
   "source": [
    "params = chippr.utils.ingest('all_systematics.txt')\n",
    "def check_prob_params(params):\n",
    "    \"\"\"\n",
    "    Sets parameter values pertaining to components of probability\n",
    "\n",
    "    Parameters\n",
    "    ----------\n",
    "    params: dict\n",
    "        dictionary containing key/value pairs for probability\n",
    "\n",
    "    Returns\n",
    "    -------\n",
    "    params: dict\n",
    "        dictionary containing key/value pairs for probability\n",
    "    \"\"\"\n",
    "    if 'prior_mean' not in params:\n",
    "        params['prior_mean'] = 'interim'\n",
    "    else:\n",
    "        params['prior_mean'] = params['prior_mean'][0]\n",
    "    if 'no_prior' not in params:\n",
    "        params['no_prior'] = 0\n",
    "    else:\n",
    "        params['no_prior'] = int(params['no_prior'][0])\n",
    "    if 'no_data' not in params:\n",
    "        params['no_data'] = 0\n",
    "    else:\n",
    "        params['no_data'] = int(params['no_data'][0])\n",
    "    return params\n",
    "params = check_prob_params(params)\n",
    "def set_up_prior(data, params):\n",
    "    \"\"\"\n",
    "    Function to create prior distribution from data\n",
    "\n",
    "    Parameters\n",
    "    ----------\n",
    "    data: dict\n",
    "        catalog dictionary containing bin endpoints, log interim prior, and log\n",
    "        interim posteriors\n",
    "    params: dict\n",
    "        dictionary of parameter values for creation of prior\n",
    "\n",
    "    Returns\n",
    "    -------\n",
    "    prior: chippr.mvn object\n",
    "        prior distribution as multivariate normal\n",
    "    \"\"\"\n",
    "    zs = data['bin_ends']\n",
    "    log_nz_intp = data['log_interim_prior']\n",
    "    log_z_posts = data['log_interim_posteriors']\n",
    "\n",
    "    z_difs = zs[1:]-zs[:-1]\n",
    "    z_mids = (zs[1:]+zs[:-1])/2.\n",
    "    n_bins = len(z_mids)\n",
    "\n",
    "    n_pdfs = len(log_z_posts)\n",
    "\n",
    "    a = 1.# / n_bins\n",
    "    b = 20.#1. / z_difs ** 2\n",
    "    c = a / n_pdfs\n",
    "    prior_var = np.eye(n_bins)\n",
    "    for k in range(n_bins):\n",
    "        prior_var[k] = a * np.exp(-0.5 * b * (z_mids[k] - z_mids) ** 2)\n",
    "    prior_var += c * np.identity(n_bins)\n",
    "\n",
    "    prior_mean = log_nz_intp\n",
    "    prior = chippr.mvn(prior_mean, prior_var)\n",
    "    if params['prior_mean'] == 'sample':\n",
    "        new_mean = prior.sample_one()\n",
    "        prior = chippr.mvn(new_mean, prior_var)\n",
    "        print(params['prior_mean'], prior_mean, new_mean)\n",
    "    else:\n",
    "        print(params['prior_mean'], prior_mean)\n",
    "\n",
    "    return (prior, prior_var)\n",
    "(prior, cov) = set_up_prior(data, params)"
   ]
  },
  {
   "cell_type": "code",
   "execution_count": null,
   "metadata": {},
   "outputs": [],
   "source": [
    "with open(os.path.join('../results/all_systematics/data', 'true_params.p'), 'r') as true_file:\n",
    "    true_nz_info = pickle.load(true_file)"
   ]
  },
  {
   "cell_type": "code",
   "execution_count": null,
   "metadata": {},
   "outputs": [],
   "source": [
    "true_funcs = [chippr.discrete(true_nz_info['grid'], true_nz_info['amps'])]\n",
    "true_amps = [1.]\n",
    "true_nz = chippr.gmix(true_amps, true_funcs, limits=(min(true_nz_info['bins']), max(true_nz_info['bins'])))\n",
    "grid_mids = (true_nz_info['grid'][1:] + true_nz_info['grid'][:-1])/2.\n",
    "plt.plot(grid_mids, true_nz.evaluate(grid_mids))\n"
   ]
  },
  {
   "cell_type": "code",
   "execution_count": null,
   "metadata": {},
   "outputs": [],
   "source": [
    "nz = chippr.log_z_dens(data, prior, truth=true_nz, loc='../results/all_systematics', vb=True)"
   ]
  },
  {
   "cell_type": "code",
   "execution_count": null,
   "metadata": {},
   "outputs": [],
   "source": [
    "nz.read('nz.p')"
   ]
  },
  {
   "cell_type": "code",
   "execution_count": null,
   "metadata": {},
   "outputs": [],
   "source": [
    "bins_to_write = np.linspace(0.0101, 3.5001, 350)\n",
    "empty_bins = np.random.random((350, 4))/350.\n"
   ]
  },
  {
   "cell_type": "code",
   "execution_count": null,
   "metadata": {},
   "outputs": [],
   "source": [
    "bin_mids = (nz.info['bin_ends'][1:] + nz.info['bin_ends'][:-1])/2.\n",
    "with open(os.path.join('../results/all_systematics/results', 'nz_mmle_test.txt'), 'wb') as cosmolike_file:\n",
    "#     cosmolike_file.write(zip(bin_mids, np.exp(nz.info['estimators']['log_mmle_nz']))\n",
    "    cosmolike_writer = csv.writer(cosmolike_file, delimiter=' ')\n",
    "    cosmolike_writer.writerows(zip(bin_mids, np.exp(nz.info['estimators']['log_mmle_nz'])))"
   ]
  },
  {
   "cell_type": "markdown",
   "metadata": {},
   "source": [
    "# what to do with CosmoLike output"
   ]
  },
  {
   "cell_type": "code",
   "execution_count": null,
   "metadata": {},
   "outputs": [],
   "source": [
    "covariances = np.zeros((200, 200))+sys.float_info.epsilon\n",
    "with open(os.path.join('../results/all_systematics/results', 'Cl_cov.nz_histo.txt'), 'rb') as cosmolike_file:\n",
    "    cosmolike_reader = csv.reader(cosmolike_file, delimiter=' ')\n",
    "    cosmolike_reader.next()\n",
    "    for row in cosmolike_reader:\n",
    "        covariances[int(row[0])][int(row[1])] = float(row[2])"
   ]
  },
  {
   "cell_type": "code",
   "execution_count": null,
   "metadata": {},
   "outputs": [],
   "source": [
    "plt.imshow(np.linalg.pinv(covariances))\n",
    "# print(covariances)"
   ]
  },
  {
   "cell_type": "code",
   "execution_count": null,
   "metadata": {},
   "outputs": [],
   "source": [
    "# Cl, dCldOm, dClds8, dCldns, dCldw0, dCldwa, dCldOb, dCldH0 = np.zeros(200), np.zeros(200), np.zeros(200), np.zeros(200), np.zeros(200), np.zeros(200), np.zeros(200)\n",
    "deriv_info = np.zeros((200, 7))\n",
    "\n",
    "with open(os.path.join('../results/all_systematics/results', 'Cl_derivs.nz_histo.txt'), 'rb') as cosmolike_file:\n",
    "    cosmolike_reader = csv.reader(cosmolike_file, delimiter=' ')\n",
    "    cosmolike_reader.next()\n",
    "    i = 0\n",
    "    while i < 200:\n",
    "        for row in cosmolike_reader:\n",
    "            for j in range(7):\n",
    "                deriv_info[i][j] = float(row[j])\n",
    "        i += 1"
   ]
  },
  {
   "cell_type": "code",
   "execution_count": null,
   "metadata": {},
   "outputs": [],
   "source": [
    "deriv_info = deriv_info.T\n",
    "dCldOm, dClds8, dCldns, dCldw0, dCldwa, dCldOb, dCldH0 = deriv_info[0], deriv_info[1], deriv_info[2], deriv_info[3], deriv_info[4], deriv_info[5], deriv_info[6]"
   ]
  },
  {
   "cell_type": "code",
   "execution_count": null,
   "metadata": {},
   "outputs": [],
   "source": [
    "ls = np.arange(200)\n",
    "fisher = np.eye(7)\n",
    "for i in range(7):\n",
    "    for j in range(i+1):\n",
    "        fisher[i][j] = np.sum((2. * ls + 1.) * deriv_info[i] * np.linalg.inv(covariances) * deriv_info[j])\n",
    "        fisher[j][i] = fisher[i][j]"
   ]
  },
  {
   "cell_type": "code",
   "execution_count": null,
   "metadata": {},
   "outputs": [],
   "source": [
    "plt.imshow(np.linalg.pinv(fisher))"
   ]
  },
  {
   "cell_type": "code",
   "execution_count": null,
   "metadata": {},
   "outputs": [],
   "source": [
    "print(np.min(np.linalg.pinv(fisher)))"
   ]
  },
  {
   "cell_type": "code",
   "execution_count": null,
   "metadata": {},
   "outputs": [],
   "source": [
    "keys = ['dCldOm', 'dClds8', 'dCldns', 'dCldw0', 'dCldwa', 'dCldOb', 'dCldH0']\n",
    "def mycorner(fisher, keys):\n",
    "    ncol = len(keys)\n",
    "    fig = plt.figure(figsize=(ncol*5, ncol*5))\n",
    "    ax = [[fig.add_subplot(ncol, ncol, ncol * i + j + 1) for j in range(i+1)] for i in range(ncol)]\n",
    "    for i in range(ncol):\n",
    "        for j in range(i+1):\n",
    "            sxx = fisher[i][i]\n",
    "            sx = np.sqrt(sxx)\n",
    "            xlim = (-5.*sx, 5.*sx)\n",
    "            if i == j:\n",
    "                x_grid = np.linspace(xlim[0], xlim[-1], 100)\n",
    "                func = sps.norm(0., np.sqrt(sxx))\n",
    "                ax[i][j].plot(x_grid, func.pdf(x_grid))\n",
    "                ax[i][j].set_xlabel(keys[i])\n",
    "            else:\n",
    "                syy = fisher[j][j]\n",
    "                sy = np.sqrt(syy)\n",
    "                ylim = (-5.*sy, 5.*sy)\n",
    "                term1 = (sxx + syy)/2.\n",
    "                term2 = np.sqrt((sxx-syy)**2/4. + fisher[i][j] * fisher[j][i])\n",
    "                a = np.sqrt(np.abs(term1 + term2))\n",
    "                b = np.sqrt(np.abs(term1 - term2))\n",
    "                t = np.arctan((fisher[i][j] + fisher[j][i])/(sxx-syy))/2.\n",
    "                ellipse = Ellipse(xy=(0., 0.), width=2.*a, height=2.*b, angle=t*180./np.pi)\n",
    "                ax[i][j].add_artist(ellipse)\n",
    "                ax[i][j].set_xlabel(keys[i])\n",
    "                ax[i][j].set_ylabel(keys[j])\n",
    "                ax[i][j].set_xlim(xlim)\n",
    "                ax[i][j].set_ylim(ylim)\n",
    "    return\n",
    "mycorner(np.linalg.pinv(fisher), keys)"
   ]
  },
  {
   "cell_type": "markdown",
   "metadata": {},
   "source": [
    "# ancient scratch"
   ]
  },
  {
   "cell_type": "code",
   "execution_count": null,
   "metadata": {},
   "outputs": [],
   "source": [
    "z_0 = 0.3\n",
    "def smooth_func(z):\n",
    "    return 1/(2 * z_0) * (z/z_0)**2 * np.exp(-z/z_0)\n",
    "zs = np.linspace(0., 1., 100)\n",
    "\n",
    "nz = smooth_func(zs[:-1])\n",
    "nz /= np.dot(nz, zs[1:]-zs[:-1])\n",
    "plt.plot(zs[:-1], nz)"
   ]
  },
  {
   "cell_type": "code",
   "execution_count": null,
   "metadata": {},
   "outputs": [],
   "source": [
    "print(np.dot(true_funcs[0].evaluate(grid_mids), true_nz_info['grid'][1:]-true_nz_info['grid'][:-1]))"
   ]
  },
  {
   "cell_type": "code",
   "execution_count": null,
   "metadata": {},
   "outputs": [],
   "source": [
    "print(np.dot(true_funcs[0].distweights, true_funcs[0].dbins))"
   ]
  },
  {
   "cell_type": "code",
   "execution_count": null,
   "metadata": {},
   "outputs": [],
   "source": [
    "func = sps.norm(0.25, 0.05)\n",
    "print(func.std())\n",
    "x = np.linspace(0., 1., 100)\n",
    "plt.plot(x, func.pdf(x))"
   ]
  },
  {
   "cell_type": "code",
   "execution_count": null,
   "metadata": {},
   "outputs": [],
   "source": [
    "n_bins = 100\n",
    "z_mids = np.linspace(0., 1., n_bins)\n",
    "\n",
    "a = 1.\n",
    "b = 20.#mid-scale variations, larger means more peaks\n",
    "c = 1.e-6#longest-scale variation, lower increases amplitude relative to small-scale\n",
    "prior_var = np.eye(n_bins)\n",
    "for k in range(n_bins):\n",
    "    prior_var[k] = a * np.exp(-0.5 * b * (z_mids[k] - z_mids) ** 2)\n",
    "prior_var += c * np.identity(n_bins)\n",
    "\n",
    "prior_mean = np.zeros(n_bins)\n",
    "prior = chippr.mvn(prior_mean, prior_var)"
   ]
  },
  {
   "cell_type": "code",
   "execution_count": null,
   "metadata": {},
   "outputs": [],
   "source": [
    "samples = prior.sample(7)\n",
    "for each in samples:\n",
    "    plt.plot(z_mids, each)"
   ]
  },
  {
   "cell_type": "code",
   "execution_count": null,
   "metadata": {},
   "outputs": [],
   "source": []
  },
  {
   "cell_type": "code",
   "execution_count": null,
   "metadata": {},
   "outputs": [],
   "source": []
  }
 ],
 "metadata": {
  "kernelspec": {
   "display_name": "no really, Python 2",
   "language": "python",
   "name": "python2"
  },
  "language_info": {
   "codemirror_mode": {
    "name": "ipython",
    "version": 2
   },
   "file_extension": ".py",
   "mimetype": "text/x-python",
   "name": "python",
   "nbconvert_exporter": "python",
   "pygments_lexer": "ipython2",
   "version": "2.7.14"
  }
 },
 "nbformat": 4,
 "nbformat_minor": 2
}
