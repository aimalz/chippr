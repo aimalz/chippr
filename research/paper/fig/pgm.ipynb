{
 "cells": [
  {
   "cell_type": "code",
   "execution_count": null,
   "metadata": {},
   "outputs": [],
   "source": [
    "import daft\n",
    "import matplotlib\n",
    "matplotlib.rc('font', **{'family': 'serif', 'serif': ['Computer Modern']})\n",
    "matplotlib.rc('text', usetex=True)\n",
    "%matplotlib inline"
   ]
  },
  {
   "cell_type": "code",
   "execution_count": null,
   "metadata": {},
   "outputs": [],
   "source": [
    "#initialize the PGM\n",
    "pgm = daft.PGM([2, 3.5], origin=[0, 0])\n",
    "\n",
    "#desired hyperparameters\n",
    "pgm.add_node(daft.Node(\"dist\", r\"$\\phi$\", 1., 3.))\n",
    "\n",
    "#latent variables/parameters\n",
    "pgm.add_node(daft.Node(\"redshift\", r\"$z_{j}$\", 1., 2.))\n",
    "\n",
    "#data\n",
    "pgm.add_node(daft.Node(\"photometry\", r\"$\\vec{d}_{j}$\", 1., 1., observed=True))\n",
    "\n",
    "# Add in the edges.\n",
    "pgm.add_edge(\"dist\", \"redshift\")\n",
    "pgm.add_edge(\"redshift\", \"photometry\")\n",
    "\n",
    "# plates\n",
    "pgm.add_plate(daft.Plate([0.45, 0.4, 1.075, 2.15], label=r\"$j = 1, \\cdots, J$\", bbox={\"color\": \"none\"}))\n",
    "\n",
    "# Render and save.\n",
    "pgm.render()\n",
    "pgm.figure.show()\n",
    "pgm.figure.savefig('pgm.png', dpi=300)"
   ]
  },
  {
   "cell_type": "code",
   "execution_count": null,
   "metadata": {},
   "outputs": [],
   "source": []
  }
 ],
 "metadata": {
  "kernelspec": {
   "display_name": "chippr (Python 2)",
   "language": "python",
   "name": "chippr_2"
  },
  "language_info": {
   "codemirror_mode": {
    "name": "ipython",
    "version": 2
   },
   "file_extension": ".py",
   "mimetype": "text/x-python",
   "name": "python",
   "nbconvert_exporter": "python",
   "pygments_lexer": "ipython2",
   "version": "2.7.15rc1"
  }
 },
 "nbformat": 4,
 "nbformat_minor": 2
}
