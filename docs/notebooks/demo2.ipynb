{
 "cells": [
  {
   "cell_type": "markdown",
   "metadata": {},
   "source": [
    "# CHIPPR\n",
    "\n",
    "This notebook demonstrates the use of the Cosmological Hierarchical Inference with Probabilistic Photometric Redshifts (CHIPPR) package to estimate the redshift density function."
   ]
  },
  {
   "cell_type": "code",
   "execution_count": null,
   "metadata": {
    "collapsed": false
   },
   "outputs": [],
   "source": [
    "import numpy as np\n",
    "import matplotlib.pyplot as plt\n",
    "%matplotlib inline\n",
    "import timeit\n",
    "import cProfile, pstats, StringIO\n",
    "\n",
    "import chippr\n",
    "from chippr import *"
   ]
  },
  {
   "cell_type": "code",
   "execution_count": null,
   "metadata": {
    "collapsed": false
   },
   "outputs": [],
   "source": [
    "#help(chippr)"
   ]
  },
  {
   "cell_type": "markdown",
   "metadata": {},
   "source": [
    "## Simulation"
   ]
  },
  {
   "cell_type": "code",
   "execution_count": null,
   "metadata": {
    "collapsed": false
   },
   "outputs": [],
   "source": [
    "tru_amps = np.array([0.20, 0.35, 0.55])\n",
    "tru_means = np.array([0.5, 0.2, 0.75])\n",
    "tru_sigmas = np.array([0.4, 0.2, 0.1])\n",
    "\n",
    "tru_nz = gmix(tru_amps, tru_means, tru_sigmas, limits=(0., 1.))"
   ]
  },
  {
   "cell_type": "code",
   "execution_count": null,
   "metadata": {
    "collapsed": false
   },
   "outputs": [],
   "source": [
    "N = 2**16\n",
    "\n",
    "tru_zs = tru_nz.sample(N)\n",
    "\n",
    "plt.hist(tru_zs, bins=50, normed=1)\n",
    "plt.xlabel(r'true $z$')\n",
    "plt.ylabel(r'probability')"
   ]
  },
  {
   "cell_type": "code",
   "execution_count": null,
   "metadata": {
    "collapsed": false
   },
   "outputs": [],
   "source": [
    "params = 'params.txt'\n",
    "params = sim_utils.ingest(params)\n",
    "print(params)"
   ]
  },
  {
   "cell_type": "code",
   "execution_count": null,
   "metadata": {
    "collapsed": false
   },
   "outputs": [],
   "source": [
    "bin_ends = np.array([0., 1.])\n",
    "weights = np.array([1.])\n",
    "\n",
    "int_prior = discrete(bin_ends, weights)"
   ]
  },
  {
   "cell_type": "code",
   "execution_count": null,
   "metadata": {
    "collapsed": false
   },
   "outputs": [],
   "source": [
    "pr = cProfile.Profile()\n",
    "pr.enable()\n",
    "\n",
    "posteriors = catalog(params)\n",
    "output = posteriors.create(tru_zs, int_prior, bins=16)\n",
    "\n",
    "data = np.exp(output['log_interim_posteriors'])\n",
    "\n",
    "pr.disable()\n",
    "s = StringIO.StringIO()\n",
    "sortby = 'tottime'\n",
    "ps = pstats.Stats(pr, stream=s).sort_stats(sortby)\n",
    "ps.print_stats()\n",
    "print s.getvalue()"
   ]
  },
  {
   "cell_type": "code",
   "execution_count": null,
   "metadata": {
    "collapsed": false
   },
   "outputs": [],
   "source": [
    "# for datum in data[:10]:\n",
    "#     plt.plot(posteriors.x_coarse, datum)\n",
    "# plt.plot(posteriors.x_coarse, int_prior.evaluate(posteriors.x_coarse), color='k')\n",
    "plt.scatter(tru_zs, posteriors.obs_samps)\n",
    "plt.xlabel(r'$z_{true}$')\n",
    "plt.ylabel(r'$z_{obs}$')"
   ]
  },
  {
   "cell_type": "code",
   "execution_count": null,
   "metadata": {
    "collapsed": false
   },
   "outputs": [],
   "source": [
    "plt.hist(posteriors.obs_samps, bins=100, normed=True, color=\"k\")\n",
    "plt.plot(posteriors.x_coarse, tru_nz.evaluate(posteriors.x_coarse), \"r-\")\n",
    "plt.plot(posteriors.x_coarse, np.sum(data, axis=0) / N, \"go\")\n",
    "plt.xlabel(\"z\")"
   ]
  },
  {
   "cell_type": "code",
   "execution_count": null,
   "metadata": {
    "collapsed": false
   },
   "outputs": [],
   "source": [
    "for n, z in enumerate(data[:10]):\n",
    "    plt.plot(posteriors.x_coarse, data[n], 'ko')\n",
    "    plt.plot(posteriors.x_fine, posteriors.obs_lfs[n], 'k-')\n",
    "    plt.show()"
   ]
  },
  {
   "cell_type": "markdown",
   "metadata": {},
   "source": [
    "## Inference"
   ]
  },
  {
   "cell_type": "code",
   "execution_count": null,
   "metadata": {
    "collapsed": false
   },
   "outputs": [],
   "source": [
    "# data_loc = '../../../prob-z/nz/code/tests/sig2/data/logdata.csv'\n",
    "\n",
    "# with open(data_loc,'rb') as data_file:\n",
    "#     tuples = (line.split(None) for line in data_file)\n",
    "#     data = [[float(pair[k]) for k in range(0,len(pair))] for pair in tuples]"
   ]
  },
  {
   "cell_type": "code",
   "execution_count": null,
   "metadata": {
    "collapsed": false
   },
   "outputs": [],
   "source": [
    "zs = output['bin_ends']\n",
    "nz_intp = np.exp(output['log_interim_prior'])\n",
    "z_posts = data\n",
    "\n",
    "z_difs = zs[1:]-zs[:-1]\n",
    "z_mids = (zs[1:]+zs[:-1])/2.\n",
    "n_bins = len(z_mids)"
   ]
  },
  {
   "cell_type": "code",
   "execution_count": null,
   "metadata": {
    "collapsed": false
   },
   "outputs": [],
   "source": [
    "# prior_sigma = 0.16\n",
    "# prior_var = np.eye(n_bins)\n",
    "# for b in range(n_bins):\n",
    "#     prior_var[b] = 1. * np.exp(-0.5 * (z_mids[b] - z_mids) ** 2 / prior_sigma ** 2)\n",
    "# l = 1.e-4\n",
    "# prior_var = prior_var+l*np.identity(n_bins)\n",
    "\n",
    "prior_var = np.eye(n_bins)\n",
    "for k in range(n_bins):\n",
    "    prior_var[k] = 1. * np.exp(-0.5 * (z_mids[k] - z_mids) ** 2 / 0.05 ** 2)\n",
    "\n",
    "prior_mean = nz_intp\n",
    "prior = mvn(prior_mean, prior_var)"
   ]
  },
  {
   "cell_type": "code",
   "execution_count": null,
   "metadata": {
    "collapsed": false
   },
   "outputs": [],
   "source": [
    "nz = log_z_dens(output, prior, truth=tru_nz, vb=True)"
   ]
  },
  {
   "cell_type": "code",
   "execution_count": null,
   "metadata": {
    "collapsed": false
   },
   "outputs": [],
   "source": [
    "nz_map = nz.calculate_mmap()"
   ]
  },
  {
   "cell_type": "code",
   "execution_count": null,
   "metadata": {
    "collapsed": false
   },
   "outputs": [],
   "source": [
    "nz_stack = nz.calculate_stack()"
   ]
  },
  {
   "cell_type": "code",
   "execution_count": null,
   "metadata": {
    "collapsed": false
   },
   "outputs": [],
   "source": [
    "pr = cProfile.Profile()\n",
    "pr.enable()\n",
    "\n",
    "nz_mmle = nz.calculate_mmle(nz_stack)\n",
    "\n",
    "pr.disable()\n",
    "s = StringIO.StringIO()\n",
    "sortby = 'tottime'\n",
    "ps = pstats.Stats(pr, stream=s).sort_stats(sortby)\n",
    "ps.print_stats()\n",
    "print s.getvalue()"
   ]
  },
  {
   "cell_type": "code",
   "execution_count": null,
   "metadata": {
    "collapsed": false
   },
   "outputs": [],
   "source": [
    "nz.plot()"
   ]
  },
  {
   "cell_type": "code",
   "execution_count": null,
   "metadata": {
    "collapsed": true
   },
   "outputs": [],
   "source": [
    "#nz_mexp = nz.mexp()"
   ]
  },
  {
   "cell_type": "code",
   "execution_count": null,
   "metadata": {
    "collapsed": false
   },
   "outputs": [],
   "source": [
    "#nz_samps = nz.sample()"
   ]
  },
  {
   "cell_type": "code",
   "execution_count": null,
   "metadata": {
    "collapsed": true
   },
   "outputs": [],
   "source": []
  }
 ],
 "metadata": {
  "kernelspec": {
   "display_name": "Python 2",
   "language": "python",
   "name": "python2"
  },
  "language_info": {
   "codemirror_mode": {
    "name": "ipython",
    "version": 2
   },
   "file_extension": ".py",
   "mimetype": "text/x-python",
   "name": "python",
   "nbconvert_exporter": "python",
   "pygments_lexer": "ipython2",
   "version": "2.7.12"
  }
 },
 "nbformat": 4,
 "nbformat_minor": 0
}
