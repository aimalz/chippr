{
 "cells": [
  {
   "cell_type": "markdown",
   "metadata": {},
   "source": [
    "# CHIPPR\n",
    "\n",
    "This notebook demonstrates the use of the Cosmological Hierarchical Inference with Probabilistic Photometric Redshifts (CHIPPR) package to estimate the redshift density function."
   ]
  },
  {
   "cell_type": "code",
   "execution_count": null,
   "metadata": {
    "collapsed": false
   },
   "outputs": [],
   "source": [
    "import numpy as np\n",
    "import matplotlib.pyplot as plt\n",
    "%matplotlib inline\n",
    "\n",
    "from chippr import *"
   ]
  },
  {
   "cell_type": "markdown",
   "metadata": {},
   "source": [
    "## Simulation"
   ]
  },
  {
   "cell_type": "code",
   "execution_count": null,
   "metadata": {
    "collapsed": true
   },
   "outputs": [],
   "source": [
    "tru_amps = np.array([0.20, 0.35, 0.55])\n",
    "tru_means = np.array([0.5, 0.2, 0.75])\n",
    "tru_sigmas = np.array([0.4, 0.2, 0.1])\n",
    "\n",
    "tru_nz = gmix(tru_amps, tru_means, tru_sigmas)"
   ]
  },
  {
   "cell_type": "code",
   "execution_count": null,
   "metadata": {
    "collapsed": false
   },
   "outputs": [],
   "source": [
    "N = int(1e4)\n",
    "\n",
    "tru_zs = tru_nz.sample(N)\n",
    "\n",
    "plt.hist(tru_zs, bins=50, normed=1)\n",
    "plt.xlabel(r'true $z$')\n",
    "plt.ylabel(r'probability')"
   ]
  },
  {
   "cell_type": "code",
   "execution_count": null,
   "metadata": {
    "collapsed": true
   },
   "outputs": [],
   "source": [
    "params = {}"
   ]
  },
  {
   "cell_type": "code",
   "execution_count": null,
   "metadata": {
    "collapsed": false
   },
   "outputs": [],
   "source": [
    "lf_sigma = 0.05\n",
    "\n",
    "params['sigma'] = lf_sigma\n",
    "\n",
    "lf = likelihood(params)\n",
    "\n",
    "obs_zs = np.array([lf.sample(z) for z in tru_zs])\n",
    "\n",
    "plt.plot(tru_zs, obs_zs, 'k.', alpha=0.01)\n",
    "plt.xlabel(r'true $z$')\n",
    "plt.ylabel(r'peak $z$')"
   ]
  },
  {
   "cell_type": "code",
   "execution_count": null,
   "metadata": {
    "collapsed": false
   },
   "outputs": [],
   "source": [
    "params['int_pr'] = 'flat'\n",
    "\n",
    "int_pr = interim_prior(params)"
   ]
  },
  {
   "cell_type": "code",
   "execution_count": null,
   "metadata": {
    "collapsed": false
   },
   "outputs": [],
   "source": [
    "post = posterior(lf, int_pr)\n",
    "post.setup_bins()\n",
    "data = post.make_data(obs_zs)\n",
    "\n",
    "for n, z in enumerate(obs_zs[:10]):\n",
    "    plt.plot(post.x_coarse, data[n], 'ko')\n",
    "    plt.plot(post.x_fine, lf.evaluate_one(z, post.x_fine), 'k-')\n",
    "    plt.show()"
   ]
  },
  {
   "cell_type": "markdown",
   "metadata": {},
   "source": [
    "## Inference"
   ]
  },
  {
   "cell_type": "code",
   "execution_count": null,
   "metadata": {
    "collapsed": false
   },
   "outputs": [],
   "source": [
    "# data_loc = '../../../prob-z/nz/code/tests/sig2/data/logdata.csv'\n",
    "\n",
    "# with open(data_loc,'rb') as data_file:\n",
    "#     tuples = (line.split(None) for line in data_file)\n",
    "#     data = [[float(pair[k]) for k in range(0,len(pair))] for pair in tuples]"
   ]
  },
  {
   "cell_type": "code",
   "execution_count": null,
   "metadata": {
    "collapsed": false
   },
   "outputs": [],
   "source": [
    "zs = post.binends\n",
    "nz_intp = int_pr.evaluate(post.x_coarse)\n",
    "z_posts = data\n",
    "\n",
    "print(np.shape(zs), np.shape(nz_intp), np.shape(z_posts))\n",
    "\n",
    "z_mids = (zs[1:]+zs[:-1])/2.\n",
    "n_bins = len(z_mids)"
   ]
  },
  {
   "cell_type": "code",
   "execution_count": null,
   "metadata": {
    "collapsed": false
   },
   "outputs": [],
   "source": [
    "prior_sigma = 0.16\n",
    "prior_var = np.eye(n_bins)\n",
    "for b in range(n_bins):\n",
    "    prior_var[b] = 1. * np.exp(-0.5 * (z_mids[b] - z_mids) ** 2 / prior_sigma ** 2)\n",
    "l = 1.e-4\n",
    "prior_var = prior_var+l*np.identity(n_bins)"
   ]
  },
  {
   "cell_type": "code",
   "execution_count": null,
   "metadata": {
    "collapsed": false
   },
   "outputs": [],
   "source": [
    "nz = z_dens(data, prior_var, truth=tru_nz, vb=True)"
   ]
  },
  {
   "cell_type": "code",
   "execution_count": null,
   "metadata": {
    "collapsed": false
   },
   "outputs": [],
   "source": [
    "help(z_dens)"
   ]
  },
  {
   "cell_type": "code",
   "execution_count": null,
   "metadata": {
    "collapsed": false
   },
   "outputs": [],
   "source": [
    "nz_mmap = nz.mmap()"
   ]
  },
  {
   "cell_type": "code",
   "execution_count": null,
   "metadata": {
    "collapsed": true
   },
   "outputs": [],
   "source": [
    "nz_mexp = nz.mexp()"
   ]
  },
  {
   "cell_type": "code",
   "execution_count": null,
   "metadata": {
    "collapsed": true
   },
   "outputs": [],
   "source": [
    "nz_stack = nz.stack()"
   ]
  },
  {
   "cell_type": "code",
   "execution_count": null,
   "metadata": {
    "collapsed": false
   },
   "outputs": [],
   "source": [
    "#nz_mmle = nz.infer(nz_lf)"
   ]
  },
  {
   "cell_type": "code",
   "execution_count": null,
   "metadata": {
    "collapsed": false
   },
   "outputs": [],
   "source": [
    "#nz_samps = nz.sample(nz_lf)"
   ]
  },
  {
   "cell_type": "code",
   "execution_count": null,
   "metadata": {
    "collapsed": false
   },
   "outputs": [],
   "source": [
    "nz.plot()"
   ]
  },
  {
   "cell_type": "code",
   "execution_count": null,
   "metadata": {
    "collapsed": true
   },
   "outputs": [],
   "source": []
  }
 ],
 "metadata": {
  "kernelspec": {
   "display_name": "Python 2",
   "language": "python",
   "name": "python2"
  },
  "language_info": {
   "codemirror_mode": {
    "name": "ipython",
    "version": 2
   },
   "file_extension": ".py",
   "mimetype": "text/x-python",
   "name": "python",
   "nbconvert_exporter": "python",
   "pygments_lexer": "ipython2",
   "version": "2.7.12"
  }
 },
 "nbformat": 4,
 "nbformat_minor": 0
}
