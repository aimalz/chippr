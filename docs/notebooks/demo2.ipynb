{
 "cells": [
  {
   "cell_type": "markdown",
   "metadata": {},
   "source": [
    "# CHIPPR\n",
    "\n",
    "This notebook demonstrates the use of the Cosmological Hierarchical Inference with Probabilistic Photometric Redshifts (CHIPPR) package to estimate the redshift density function."
   ]
  },
  {
   "cell_type": "code",
   "execution_count": 28,
   "metadata": {
    "collapsed": false
   },
   "outputs": [],
   "source": [
    "import numpy as np\n",
    "import matplotlib.pyplot as plt\n",
    "%matplotlib inline\n",
    "import timeit\n",
    "\n",
    "import chippr\n",
    "from chippr import *"
   ]
  },
  {
   "cell_type": "code",
   "execution_count": 19,
   "metadata": {
    "collapsed": false
   },
   "outputs": [
    {
     "name": "stdout",
     "output_type": "stream",
     "text": [
      "Help on package chippr:\n",
      "\n",
      "NAME\n",
      "    chippr\n",
      "\n",
      "FILE\n",
      "    /Users/aimalz/anaconda/lib/python2.7/site-packages/chippr-0.1-py2.7.egg/chippr/__init__.py\n",
      "\n",
      "PACKAGE CONTENTS\n",
      "    catalog\n",
      "    discrete\n",
      "    gauss\n",
      "    gmix\n",
      "    int_pr_fun\n",
      "    interim_prior\n",
      "    lik_fun\n",
      "    likelihood\n",
      "    log_z_dens\n",
      "    plot_utils\n",
      "    post_fun\n",
      "    posterior\n",
      "    sim\n",
      "    sim_utils\n",
      "    utils\n",
      "    z_dens\n",
      "\n",
      "SUBMODULES\n",
      "    pu\n",
      "    su\n",
      "    u\n",
      "\n",
      "DATA\n",
      "    __loader__ = <zipimporter object \"/Users/aimalz/anaconda/lib/python2.7...\n",
      "    a_int = 0.5\n",
      "    a_mle = 1.0\n",
      "    a_stk = 1.0\n",
      "    a_tru = 1.0\n",
      "    c_int = 'k'\n",
      "    c_mle = 'k'\n",
      "    c_stk = 'k'\n",
      "    c_tru = 'k'\n",
      "    d_int = [(0, (1, 0.0001))]\n",
      "    d_mle = [(0, (1, 1))]\n",
      "    d_stk = [(0, (3, 2))]\n",
      "    d_tru = [(0, (1, 0.0001))]\n",
      "    eps = 2.220446049250313e-16\n",
      "    l_int = 'Interim '\n",
      "    l_mle = 'MMLE '\n",
      "    l_stk = 'Stacked '\n",
      "    l_tru = 'True '\n",
      "    lnz = r'$\\ln[n(z)]$'\n",
      "    nz = '$n(z)$'\n",
      "    s_int = '--'\n",
      "    s_mle = '--'\n",
      "    s_stk = '--'\n",
      "    s_tru = '--'\n",
      "    w_int = 0.5\n",
      "    w_mle = 2.0\n",
      "    w_stk = 1.5\n",
      "    w_tru = 0.5\n",
      "\n",
      "\n"
     ]
    }
   ],
   "source": [
    "help(chippr)"
   ]
  },
  {
   "cell_type": "markdown",
   "metadata": {},
   "source": [
    "## Simulation"
   ]
  },
  {
   "cell_type": "code",
   "execution_count": 20,
   "metadata": {
    "collapsed": false
   },
   "outputs": [],
   "source": [
    "tru_amps = np.array([0.20, 0.35, 0.55])\n",
    "tru_means = np.array([0.5, 0.2, 0.75])\n",
    "tru_sigmas = np.array([0.4, 0.2, 0.1])\n",
    "\n",
    "tru_nz = gmix(tru_amps, tru_means, tru_sigmas, limits=(0., 1.))"
   ]
  },
  {
   "cell_type": "code",
   "execution_count": 21,
   "metadata": {
    "collapsed": false
   },
   "outputs": [
    {
     "data": {
      "text/plain": [
       "<matplotlib.text.Text at 0x10638f8d0>"
      ]
     },
     "execution_count": 21,
     "metadata": {},
     "output_type": "execute_result"
    },
    {
     "data": {
      "image/png": "[encoded data removed]",
      "text/plain": [
       "<matplotlib.figure.Figure at 0x10af70710>"
      ]
     },
     "metadata": {},
     "output_type": "display_data"
    }
   ],
   "source": [
    "N = 2**16\n",
    "\n",
    "tru_zs = tru_nz.sample(N)\n",
    "\n",
    "plt.hist(tru_zs, bins=50, normed=1)\n",
    "plt.xlabel(r'true $z$')\n",
    "plt.ylabel(r'probability')"
   ]
  },
  {
   "cell_type": "code",
   "execution_count": 22,
   "metadata": {
    "collapsed": true
   },
   "outputs": [],
   "source": [
    "params = {}"
   ]
  },
  {
   "cell_type": "code",
   "execution_count": 23,
   "metadata": {
    "collapsed": false
   },
   "outputs": [],
   "source": [
    "lf_sigma = 0.05\n",
    "\n",
    "params['constant_sigma'] = lf_sigma"
   ]
  },
  {
   "cell_type": "code",
   "execution_count": 24,
   "metadata": {
    "collapsed": false
   },
   "outputs": [],
   "source": [
    "bin_ends = np.array([0., 1.])\n",
    "weights = np.array([1.])\n",
    "\n",
    "int_prior = discrete(bin_ends, weights)"
   ]
  },
  {
   "cell_type": "code",
   "execution_count": 29,
   "metadata": {
    "collapsed": false
   },
   "outputs": [
    {
     "name": "stdout",
     "output_type": "stream",
     "text": [
      "{'constant_sigma': 0.05}\n",
      "(array([  6.23436369e-09,   6.24987433e-02,   1.24997480e-01,\n",
      "         1.87496218e-01,   2.49994955e-01,   3.12493692e-01,\n",
      "         3.74992429e-01,   4.37491166e-01,   4.99989903e-01,\n",
      "         5.62488640e-01,   6.24987377e-01,   6.87486114e-01,\n",
      "         7.49984851e-01,   8.12483588e-01,   8.74982325e-01,\n",
      "         9.37481063e-01,   9.99979800e-01]), (17,))\n",
      "292.299290895\n"
     ]
    }
   ],
   "source": [
    "posteriors = catalog(params)\n",
    "\n",
    "start_time = timeit.default_timer()\n",
    "\n",
    "output = posteriors.create(tru_zs, int_prior, bins=16)\n",
    "\n",
    "data = output['interim_posteriors']\n",
    "\n",
    "elapsed = timeit.default_timer() - start_time\n",
    "print(elapsed)"
   ]
  },
  {
   "cell_type": "code",
   "execution_count": null,
   "metadata": {
    "collapsed": false
   },
   "outputs": [],
   "source": [
    "for datum in data[:10]:\n",
    "    plt.plot(posteriors.x_coarse, datum)\n",
    "plt.plot(posteriors.x_coarse, int_prior.evaluate(posteriors.x_coarse), color='k')"
   ]
  },
  {
   "cell_type": "code",
   "execution_count": null,
   "metadata": {
    "collapsed": false
   },
   "outputs": [],
   "source": [
    "for n, z in enumerate(data[:10]):\n",
    "    plt.plot(posteriors.x_coarse, data[n], 'ko')\n",
    "    plt.plot(posteriors.x_fine, posteriors.obs_lfs[n], 'k-')\n",
    "    plt.show()"
   ]
  },
  {
   "cell_type": "markdown",
   "metadata": {},
   "source": [
    "## Inference"
   ]
  },
  {
   "cell_type": "code",
   "execution_count": null,
   "metadata": {
    "collapsed": false
   },
   "outputs": [],
   "source": [
    "# data_loc = '../../../prob-z/nz/code/tests/sig2/data/logdata.csv'\n",
    "\n",
    "# with open(data_loc,'rb') as data_file:\n",
    "#     tuples = (line.split(None) for line in data_file)\n",
    "#     data = [[float(pair[k]) for k in range(0,len(pair))] for pair in tuples]"
   ]
  },
  {
   "cell_type": "code",
   "execution_count": null,
   "metadata": {
    "collapsed": false
   },
   "outputs": [],
   "source": [
    "zs = output['bin_ends']\n",
    "nz_intp = output['interim_prior']\n",
    "z_posts = data\n",
    "\n",
    "print(np.shape(zs), np.shape(nz_intp), np.shape(z_posts))\n",
    "\n",
    "z_mids = (zs[1:]+zs[:-1])/2.\n",
    "n_bins = len(z_mids)"
   ]
  },
  {
   "cell_type": "code",
   "execution_count": null,
   "metadata": {
    "collapsed": false
   },
   "outputs": [],
   "source": [
    "prior_sigma = 0.16\n",
    "prior_var = np.eye(n_bins)\n",
    "for b in range(n_bins):\n",
    "    prior_var[b] = 1. * np.exp(-0.5 * (z_mids[b] - z_mids) ** 2 / prior_sigma ** 2)\n",
    "l = 1.e-4\n",
    "prior_var = prior_var+l*np.identity(n_bins)\n",
    "\n",
    "prior_mean = nz_intp\n",
    "prior = gauss(prior_mean, prior_var)"
   ]
  },
  {
   "cell_type": "code",
   "execution_count": null,
   "metadata": {
    "collapsed": false
   },
   "outputs": [],
   "source": [
    "nz = log_z_dens(output, prior, truth=tru_nz, vb=True)"
   ]
  },
  {
   "cell_type": "code",
   "execution_count": null,
   "metadata": {
    "collapsed": false
   },
   "outputs": [],
   "source": [
    "nz_mmle = nz.optimize(np.log(nz_intp))"
   ]
  },
  {
   "cell_type": "code",
   "execution_count": null,
   "metadata": {
    "collapsed": false
   },
   "outputs": [],
   "source": [
    "nz.plot()"
   ]
  },
  {
   "cell_type": "code",
   "execution_count": null,
   "metadata": {
    "collapsed": true
   },
   "outputs": [],
   "source": [
    "nz_stack = nz.stack()"
   ]
  },
  {
   "cell_type": "code",
   "execution_count": null,
   "metadata": {
    "collapsed": false
   },
   "outputs": [],
   "source": [
    "nz_mmap = nz.mmap()"
   ]
  },
  {
   "cell_type": "code",
   "execution_count": null,
   "metadata": {
    "collapsed": true
   },
   "outputs": [],
   "source": [
    "nz_mexp = nz.mexp()"
   ]
  },
  {
   "cell_type": "code",
   "execution_count": null,
   "metadata": {
    "collapsed": false
   },
   "outputs": [],
   "source": [
    "#nz_samps = nz.sample()"
   ]
  },
  {
   "cell_type": "code",
   "execution_count": null,
   "metadata": {
    "collapsed": true
   },
   "outputs": [],
   "source": []
  }
 ],
 "metadata": {
  "kernelspec": {
   "display_name": "Python 2",
   "language": "python",
   "name": "python2"
  },
  "language_info": {
   "codemirror_mode": {
    "name": "ipython",
    "version": 2
   },
   "file_extension": ".py",
   "mimetype": "text/x-python",
   "name": "python",
   "nbconvert_exporter": "python",
   "pygments_lexer": "ipython2",
   "version": "2.7.12"
  }
 },
 "nbformat": 4,
 "nbformat_minor": 0
}
